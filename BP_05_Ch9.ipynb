{
  "nbformat": 4,
  "nbformat_minor": 0,
  "metadata": {
    "colab": {
      "provenance": [],
      "authorship_tag": "ABX9TyM2pRapbPSFsFUns+EY6yqX",
      "include_colab_link": true
    },
    "kernelspec": {
      "name": "python3",
      "display_name": "Python 3"
    },
    "language_info": {
      "name": "python"
    }
  },
  "cells": [
    {
      "cell_type": "markdown",
      "metadata": {
        "id": "view-in-github",
        "colab_type": "text"
      },
      "source": [
        "<a href=\"https://colab.research.google.com/github/rladbstj/-BP_05_Ch9/blob/main/BP_05_Ch9.ipynb\" target=\"_parent\"><img src=\"https://colab.research.google.com/assets/colab-badge.svg\" alt=\"Open In Colab\"/></a>"
      ]
    },
    {
      "cell_type": "markdown",
      "source": [
        "1. 사용자로부터 5개의 숫자를 읽어서 리스트에 저장하고 숫자들의 평균을 계산하여 출력하는 프로그램을 작성해보자."
      ],
      "metadata": {
        "id": "0cNDNCMcmLO7"
      }
    },
    {
      "cell_type": "code",
      "source": [
        "alist = []\n",
        "sum = 0\n",
        "for i in range(5):   # 5개의 정수를 리스트에 넣는다.\n",
        " i = int(input(\"정수를 입력하시오: \"))\n",
        " alist.append(i)\n",
        "for i in alist:\n",
        " sum += i\n",
        "avg = sum/len(alist)    # 평균을 구함\n",
        "print(\"평균=\", avg)     # 평균 출력"
      ],
      "metadata": {
        "colab": {
          "base_uri": "https://localhost:8080/"
        },
        "id": "jrB6jMLnnNN8",
        "outputId": "eac4b134-bb72-4858-911e-5da227a6a66c"
      },
      "execution_count": 1,
      "outputs": [
        {
          "output_type": "stream",
          "name": "stdout",
          "text": [
            "정수를 입력하시오: 100\n",
            "정수를 입력하시오: 200\n",
            "정수를 입력하시오: 300\n",
            "정수를 입력하시오: 400\n",
            "정수를 입력하시오: 500\n",
            "평균= 300.0\n"
          ]
        }
      ]
    },
    {
      "cell_type": "markdown",
      "source": [
        "2. 주사위를 던져서 나오는 값들의 빈도를 계산하는 프로그램을 작성해보자. 즉 1, 2, 3, 4, 5, 6의 값이 각각 몇 번이나 나오는지를 계산한다. 난수 발생 함수와 리스트를 사용해보자. "
      ],
      "metadata": {
        "id": "oNeqhH5SmLRm"
      }
    },
    {
      "cell_type": "code",
      "source": [
        "import random\n",
        "counters = [0, 0, 0, 0, 0, 0]   \n",
        "for i in range(1000):\n",
        " value = random.randint(0, 5)\n",
        " counters[value] = counters[value] + 1\n",
        "\n",
        "for i in range(6) :\n",
        " print(\"주사위가 \", i+1, \"인 경우는 \", counters[i], \"번\")"
      ],
      "metadata": {
        "colab": {
          "base_uri": "https://localhost:8080/"
        },
        "id": "HyA9UTW7nYmr",
        "outputId": "8cf10b75-3fc9-4db1-e790-906b3a8a9165"
      },
      "execution_count": 2,
      "outputs": [
        {
          "output_type": "stream",
          "name": "stdout",
          "text": [
            "주사위가  1 인 경우는  176 번\n",
            "주사위가  2 인 경우는  160 번\n",
            "주사위가  3 인 경우는  180 번\n",
            "주사위가  4 인 경우는  142 번\n",
            "주사위가  5 인 경우는  173 번\n",
            "주사위가  6 인 경우는  169 번\n"
          ]
        }
      ]
    },
    {
      "cell_type": "markdown",
      "source": [
        "3. 딕셔너리를 사용하여서 친구들의 이름과 전화번호를 저장해보자. 사용자로부터 친구들의 이름과 전화번호를 입력받고 딕셔너리에 저장한다. 이름을 입력하지 않고 엔터키를 치면 검색모드가 된다. 검색 모드에서는 친구들의 이름으로 전화번호를 검색할 수 있도록한다. "
      ],
      "metadata": {
        "id": "zuvlUBdXmLUe"
      }
    },
    {
      "cell_type": "code",
      "source": [
        "contacts = { }   \n",
        "\n",
        "while True:\n",
        "       name = input(\"(입력모드)이름을 입력하시오: \")\n",
        "       if not name:\n",
        "               break;\n",
        "       tel = input(\"전화번호를 입력하시오: \")\n",
        "       contacts[name] = tel    #딕셔너리에 이름과 번호가 저장\n",
        "while True:\n",
        "       name = input(\"(검색모드)이름을 입력하시오: \")\n",
        "       if not name:\n",
        "              break;\n",
        "       if name in contacts :\n",
        "              print(name, \"의 전화번호는\", contacts[name], \"입니다.\")   # 딕셔너리에 저장한 이름과 번호 출력"
      ],
      "metadata": {
        "colab": {
          "base_uri": "https://localhost:8080/"
        },
        "id": "kW94jeYtnscy",
        "outputId": "91eccecf-e37a-4d2e-b1c1-f54c211d7909"
      },
      "execution_count": 13,
      "outputs": [
        {
          "name": "stdout",
          "output_type": "stream",
          "text": [
            "(입력모드)이름을 입력하시오: 김윤서\n",
            "전화번호를 입력하시오: 010-1234-5678\n",
            "(입력모드)이름을 입력하시오: 홍길동\n",
            "전화번호를 입력하시오: 010-5678-1234\n",
            "(입력모드)이름을 입력하시오: \n",
            "(검색모드)이름을 입력하시오: 김윤서\n",
            "김윤서 의 전화번호는 010-1234-5678 입니다.\n",
            "(검색모드)이름을 입력하시오: \n"
          ]
        }
      ]
    },
    {
      "cell_type": "markdown",
      "source": [
        "7. 인터넷 도메인의 약자와 해당되는 국가를 딕셔너리에 저장해보자. 예를 들어 \"kr\"은 대한민국으로 저장되어야 한다. 딕셔너리를 순회하면서 모든 키와 값을 출력하는 프로그램을 작성해보자."
      ],
      "metadata": {
        "id": "QSqTEedUmLW6"
      }
    },
    {
      "cell_type": "code",
      "source": [
        "domains = { \"kr\": \"대한민국\", \"us\": \"미국\",\"jp\": \"일본\", \n",
        "            \"de\": \"독일\", \"sk\": \"슬로바키아\", \n",
        "            \"hu\": \"헝가리\", \"no\": \"노르웨이\" }    # 10개의 딕셔너리 값을 저장\n",
        "for k, v in domains.items():   # 도메인 주소와 해당하는 주소를 사용하는 나라의 값을 출력\n",
        " print (k, \": \", v)\n"
      ],
      "metadata": {
        "colab": {
          "base_uri": "https://localhost:8080/"
        },
        "id": "3ER1owBxpQOI",
        "outputId": "b34f89fd-269c-4d66-daa7-d9862f502dd5"
      },
      "execution_count": 19,
      "outputs": [
        {
          "output_type": "stream",
          "name": "stdout",
          "text": [
            "kr :  대한민국\n",
            "us :  미국\n",
            "jp :  일본\n",
            "de :  독일\n",
            "sk :  슬로바키아\n",
            "hu :  헝가리\n",
            "no :  노르웨이\n"
          ]
        }
      ]
    },
    {
      "cell_type": "markdown",
      "source": [
        "8. 딕셔너리에 문제와 정담을 저장하고 하나씩 꺼내서 사용자에게 제시하는 프로그램을 작성해보자. 사용자는 문자열로 답해야 한다. 번호로 답할 수 없다."
      ],
      "metadata": {
        "id": "146I-Y-imLZe"
      }
    },
    {
      "cell_type": "code",
      "source": [
        "problems = {'파이썬': '최근에 가장 떠오르는 프로그래밍 언어', \n",
        "            '변수': '데이터를 저장하는 메모리 공간', \n",
        "            '함수': '작업을 수행하는 문장들의 집합에 이름을 붙인것',\n",
        "            '리스트': '서로 관련이 없는 항목들의 모임', }      # 딕셔너리 값 저장\n",
        "\n",
        "def show_words(problems):\n",
        "   display_message = \"\"\n",
        "   i=1\n",
        "   for word in problems.keys():\n",
        "       display_message += \"(\"+str(i)+\")\"\n",
        "       display_message += word + \" \"\n",
        "       i+=1\n",
        "   print( display_message)\n",
        "\n",
        "for meaning in problems.values():\n",
        "    print(\"다음은 어떤 단어에 대한 설명일까요? \")\n",
        "    print(\"\\\"\"+meaning+\"\\\"\")\n",
        "    correct = False\n",
        "    while not correct:\n",
        "        show_words(problems)\n",
        "        guessed_word = input(\"\")\n",
        "        if problems[guessed_word] == meaning:\n",
        "            print(\"정답입니다. !\")\n",
        "            correct = True\n",
        "        else:\n",
        "            print(\"정답이 아닙니다.\")"
      ],
      "metadata": {
        "colab": {
          "base_uri": "https://localhost:8080/"
        },
        "id": "AelTVsAMpcIm",
        "outputId": "bc629e18-0fe3-4464-8535-adc9afd8469e"
      },
      "execution_count": 18,
      "outputs": [
        {
          "output_type": "stream",
          "name": "stdout",
          "text": [
            "다음은 어떤 단어에 대한 설명일까요? \n",
            "\"최근에 가장 떠오르는 프로그래밍 언어\"\n",
            "(1)파이썬 (2)변수 (3)함수 (4)리스트 \n",
            "파이썬\n",
            "정답입니다. !\n",
            "다음은 어떤 단어에 대한 설명일까요? \n",
            "\"데이터를 저장하는 메모리 공간\"\n",
            "(1)파이썬 (2)변수 (3)함수 (4)리스트 \n",
            "변수\n",
            "정답입니다. !\n",
            "다음은 어떤 단어에 대한 설명일까요? \n",
            "\"작업을 수행하는 문장들의 집합에 이름을 붙인것\"\n",
            "(1)파이썬 (2)변수 (3)함수 (4)리스트 \n",
            "함수\n",
            "정답입니다. !\n",
            "다음은 어떤 단어에 대한 설명일까요? \n",
            "\"서로 관련이 없는 항목들의 모임\"\n",
            "(1)파이썬 (2)변수 (3)함수 (4)리스트 \n",
            "리스트\n",
            "정답입니다. !\n"
          ]
        }
      ]
    }
  ]
}